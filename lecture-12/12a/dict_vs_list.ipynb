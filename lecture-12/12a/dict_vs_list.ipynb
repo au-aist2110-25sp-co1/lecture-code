{
 "cells": [
  {
   "cell_type": "markdown",
   "id": "dad3efc1",
   "metadata": {},
   "source": [
    "# Dictionaries vs. Lists (Indexes and Values)\n",
    "\n",
    "| Lists                               | Dictionaries                          |\n",
    "|-------------------------------------|---------------------------------------|\n",
    "| Declared using square brackets [ ]  | Declared using curly braces { }\n",
    "| Integer Indexes                     | Object \"Indexes\" (usually strings)\n",
    "| Indexes are implied                 | \"Indexes\" are explicitly declared\n",
    "| Indexes are sequential              | \"Indexes\" can be in any order\n",
    "| Values have guaranteed order        | Guaranteed order as of Python 3.7+\n",
    "| _sequential order_                  | _insertion order_\n",
    "\n",
    "For dictionaries, \"Indexes\" are actually called *__\"Keys\"__*. Note that once inserted into a dictionary, you cannot change the value of an element's key. You must re-add the value using a new key and delete the old one.\n",
    "\n",
    "A List is a sequence of values.\n",
    "\n",
    "A Dictionary is a collection of key:value pairs."
   ]
  },
  {
   "cell_type": "code",
   "execution_count": 1,
   "id": "fe85a724",
   "metadata": {},
   "outputs": [
    {
     "name": "stdout",
     "output_type": "stream",
     "text": [
      "dewey\n",
      "huey\n"
     ]
    }
   ],
   "source": [
    "# List literal value\n",
    "duck_list = [\"huey\", \"dewey\", \"louie\"]\n",
    "\n",
    "# Access using index (ALWAYS a integer)\n",
    "print(duck_list[1])\n",
    "print(duck_list[0])"
   ]
  },
  {
   "cell_type": "code",
   "execution_count": 2,
   "id": "0a1f527a",
   "metadata": {},
   "outputs": [
    {
     "name": "stdout",
     "output_type": "stream",
     "text": [
      "huey\n"
     ]
    },
    {
     "ename": "KeyError",
     "evalue": "0",
     "output_type": "error",
     "traceback": [
      "\u001b[31m---------------------------------------------------------------------------\u001b[39m",
      "\u001b[31mKeyError\u001b[39m                                  Traceback (most recent call last)",
      "\u001b[36mCell\u001b[39m\u001b[36m \u001b[39m\u001b[32mIn[2]\u001b[39m\u001b[32m, line 6\u001b[39m\n\u001b[32m      4\u001b[39m \u001b[38;5;66;03m# access using key (integer in this case)\u001b[39;00m\n\u001b[32m      5\u001b[39m \u001b[38;5;28mprint\u001b[39m(duck_dict[\u001b[32m1\u001b[39m])\n\u001b[32m----> \u001b[39m\u001b[32m6\u001b[39m \u001b[38;5;28mprint\u001b[39m(\u001b[43mduck_dict\u001b[49m\u001b[43m[\u001b[49m\u001b[32;43m0\u001b[39;49m\u001b[43m]\u001b[49m)\n",
      "\u001b[31mKeyError\u001b[39m: 0"
     ]
    }
   ],
   "source": [
    "# dictionary literal value\n",
    "duck_dict = {1: \"huey\", 4: \"dewey\", 2: \"louie\"}\n",
    "\n",
    "# access using key (integer in this case)\n",
    "print(duck_dict[1])\n",
    "print(duck_dict[0])"
   ]
  },
  {
   "cell_type": "code",
   "execution_count": 3,
   "id": "d15e32d0",
   "metadata": {},
   "outputs": [
    {
     "name": "stdout",
     "output_type": "stream",
     "text": [
      "Huey is red\n",
      "Dewey is blue\n",
      "Louie is orange\n"
     ]
    }
   ],
   "source": [
    "# most common to see dictionaries with strings for keys\n",
    "duck_colors = {\"huey\": \"red\", \"dewey\": \"blue\", \"louie\": \"orange\"}\n",
    "\n",
    "# access using the string\n",
    "print(f\"Huey is {duck_colors['huey']}\")\n",
    "print(f\"Dewey is {duck_colors['dewey']}\")\n",
    "print(f\"Louie is {duck_colors['louie']}\")"
   ]
  },
  {
   "cell_type": "code",
   "execution_count": 4,
   "id": "0002b118",
   "metadata": {},
   "outputs": [],
   "source": [
    "# change values in a list\n",
    "duck_list[0] = \"Huey\"\n",
    "duck_list[1] = \"Dewey\"\n",
    "duck_list[2] = \"Louie\""
   ]
  },
  {
   "cell_type": "code",
   "execution_count": 5,
   "id": "149156f1",
   "metadata": {},
   "outputs": [],
   "source": [
    "# change values in a dictionary (not too different)\n",
    "duck_dict[1] = \"Huey\"\n",
    "duck_dict[4] = \"Dewey\"\n",
    "duck_dict[2] = \"Louie\""
   ]
  },
  {
   "cell_type": "code",
   "execution_count": 6,
   "id": "cf0a69b8",
   "metadata": {},
   "outputs": [
    {
     "name": "stdout",
     "output_type": "stream",
     "text": [
      "green\n"
     ]
    },
    {
     "ename": "KeyError",
     "evalue": "'Louie'",
     "output_type": "error",
     "traceback": [
      "\u001b[31m---------------------------------------------------------------------------\u001b[39m",
      "\u001b[31mKeyError\u001b[39m                                  Traceback (most recent call last)",
      "\u001b[36mCell\u001b[39m\u001b[36m \u001b[39m\u001b[32mIn[6]\u001b[39m\u001b[32m, line 4\u001b[39m\n\u001b[32m      2\u001b[39m duck_colors[\u001b[33m\"\u001b[39m\u001b[33mlouie\u001b[39m\u001b[33m\"\u001b[39m] = \u001b[33m\"\u001b[39m\u001b[33mgreen\u001b[39m\u001b[33m\"\u001b[39m\n\u001b[32m      3\u001b[39m \u001b[38;5;28mprint\u001b[39m(duck_colors[\u001b[33m\"\u001b[39m\u001b[33mlouie\u001b[39m\u001b[33m\"\u001b[39m])\n\u001b[32m----> \u001b[39m\u001b[32m4\u001b[39m \u001b[38;5;28mprint\u001b[39m(\u001b[43mduck_colors\u001b[49m\u001b[43m[\u001b[49m\u001b[33;43m\"\u001b[39;49m\u001b[33;43mLouie\u001b[39;49m\u001b[33;43m\"\u001b[39;49m\u001b[43m]\u001b[49m)\n",
      "\u001b[31mKeyError\u001b[39m: 'Louie'"
     ]
    }
   ],
   "source": [
    "# string-based keys are case sensitive\n",
    "duck_colors[\"louie\"] = \"green\"\n",
    "print(duck_colors[\"louie\"])\n",
    "print(duck_colors[\"Louie\"])"
   ]
  },
  {
   "cell_type": "markdown",
   "id": "104bed45",
   "metadata": {},
   "source": [
    "# Dictionaries vs. Lists (Adding Items)\n",
    "\n",
    "| Lists                               | Dictionaries                          |\n",
    "|-------------------------------------|---------------------------------------|\n",
    "| * append() to end                   | * added implicitly by setting the value of a new item\n",
    "| * insert() at position              | * setdefault() EITHER retrieves the current value or adds a new value  \n",
    "| * extend() with multiple values     | \n"
   ]
  },
  {
   "cell_type": "code",
   "execution_count": 8,
   "id": "0d0b3931",
   "metadata": {},
   "outputs": [
    {
     "name": "stdout",
     "output_type": "stream",
     "text": [
      "4\n",
      "5\n",
      "['Huey', 'Dewey', 'Louie', 'phooey', 'phooey']\n"
     ]
    }
   ],
   "source": [
    "# append an item to a list\n",
    "print(len(duck_list))\n",
    "duck_list.append(\"phooey\")\n",
    "print(len(duck_list))\n",
    "print(duck_list)"
   ]
  },
  {
   "cell_type": "code",
   "execution_count": 16,
   "id": "a5d0c199",
   "metadata": {},
   "outputs": [
    {
     "name": "stdout",
     "output_type": "stream",
     "text": [
      "4\n",
      "4\n",
      "{1: 'Huey', 4: 'Dewey', 2: 'Louie', 13: 'phooey'}\n"
     ]
    }
   ],
   "source": [
    "# append an item to a dict\n",
    "print(len(duck_dict))\n",
    "duck_dict[13] = \"phooey\"\n",
    "print(len(duck_dict))\n",
    "print(duck_dict)"
   ]
  },
  {
   "cell_type": "code",
   "execution_count": 18,
   "id": "ce6ff535",
   "metadata": {},
   "outputs": [
    {
     "name": "stdout",
     "output_type": "stream",
     "text": [
      "4\n",
      "4\n",
      "{'huey': 'red', 'dewey': 'blue', 'louie': 'green', 'phooey': 'brown'}\n"
     ]
    }
   ],
   "source": [
    "# no different using string keys\n",
    "print(len(duck_colors))\n",
    "duck_colors[\"phooey\"] = \"brown\"\n",
    "print(len(duck_colors))\n",
    "print(duck_colors)"
   ]
  },
  {
   "cell_type": "code",
   "execution_count": 20,
   "id": "ca06a652",
   "metadata": {},
   "outputs": [
    {
     "name": "stdout",
     "output_type": "stream",
     "text": [
      "pink\n",
      "5\n",
      "{'huey': 'red', 'dewey': 'blue', 'louie': 'green', 'phooey': 'brown', 'gooey': 'pink'}\n"
     ]
    }
   ],
   "source": [
    "# setdefault() is useful for adding and retrieving a value at the same time\n",
    "print(duck_colors.setdefault(\"gooey\", \"pink\"))\n",
    "print(len(duck_colors))\n",
    "print(duck_colors)"
   ]
  }
 ],
 "metadata": {
  "kernelspec": {
   "display_name": "Python 3",
   "language": "python",
   "name": "python3"
  },
  "language_info": {
   "codemirror_mode": {
    "name": "ipython",
    "version": 3
   },
   "file_extension": ".py",
   "mimetype": "text/x-python",
   "name": "python",
   "nbconvert_exporter": "python",
   "pygments_lexer": "ipython3",
   "version": "3.13.2"
  }
 },
 "nbformat": 4,
 "nbformat_minor": 5
}
